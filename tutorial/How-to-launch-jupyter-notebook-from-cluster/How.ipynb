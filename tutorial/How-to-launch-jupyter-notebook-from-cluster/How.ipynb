{
 "cells": [
  {
   "cell_type": "code",
   "execution_count": null,
   "metadata": {},
   "outputs": [],
   "source": [
    "step 1: ssh into the cluster using: \"ssh -L localhost:8888:localhost:8889 'remote server address' \""
   ]
  },
  {
   "cell_type": "code",
   "execution_count": null,
   "metadata": {},
   "outputs": [],
   "source": [
    "step 2: On the remote server ( your cluster ), launch the jupyter notebook:  \"jupyter notebook --no-browser --port=8889\"\n",
    "    \n",
    "    #Note: you may need to activate corresponding environement using conda before running jupyter notebook )"
   ]
  },
  {
   "cell_type": "code",
   "execution_count": null,
   "metadata": {},
   "outputs": [],
   "source": [
    "step 3: On local machine ( your laptop or desktop ):  open the url: http://localhost:8888 from your web browser\n",
    "                \n",
    "    # Note In the next step, you will use the token number to log into it. "
   ]
  },
  {
   "cell_type": "code",
   "execution_count": null,
   "metadata": {},
   "outputs": [],
   "source": [
    "step 4: After launching jupyter notebook on remote server, there are many output messages. Locate the line that looks like this\n",
    "\n",
    "http://localhost:8889/?token=ddfd2605b7734630e5bdb77b8c60a99460d5d4ed4e9693de. copy the line after \"token=\""
   ]
  },
  {
   "cell_type": "code",
   "execution_count": null,
   "metadata": {},
   "outputs": [],
   "source": [
    "step 5: Use this token number to log in the url: http://localhost:8888 on your local machine. \n"
   ]
  },
  {
   "cell_type": "code",
   "execution_count": null,
   "metadata": {},
   "outputs": [],
   "source": [
    "step 6: Now, you can locally use Jupyter notebook hosted by the remote server. "
   ]
  }
 ],
 "metadata": {
  "kernelspec": {
   "display_name": "Python 3",
   "language": "python",
   "name": "python3"
  },
  "language_info": {
   "codemirror_mode": {
    "name": "ipython",
    "version": 3
   },
   "file_extension": ".py",
   "mimetype": "text/x-python",
   "name": "python",
   "nbconvert_exporter": "python",
   "pygments_lexer": "ipython3",
   "version": "3.7.6"
  }
 },
 "nbformat": 4,
 "nbformat_minor": 4
}

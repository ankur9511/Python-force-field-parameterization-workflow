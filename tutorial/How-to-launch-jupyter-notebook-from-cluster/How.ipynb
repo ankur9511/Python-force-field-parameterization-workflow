{
 "cells": [
  {
   "cell_type": "code",
   "execution_count": null,
   "metadata": {},
   "outputs": [],
   "source": [
    "ssh into the cluster using: \"ssh -L localhost:8888:localhost:8889 'remote server'\""
   ]
  },
  {
   "cell_type": "code",
   "execution_count": null,
   "metadata": {},
   "outputs": [],
   "source": [
    "On the remote server ( your cluster ), run the jupyter notebook:  \"jupyter notebook --no-browser --port=8889\"\n",
    "    \n",
    "    #Note: you may need to activate corresponding environement using conda before running jupyter notebook )"
   ]
  },
  {
   "cell_type": "code",
   "execution_count": null,
   "metadata": {},
   "outputs": [],
   "source": [
    "On local machine ( your laptop or desktop ):  open the url: http://localhost:8888 from your web browser\n",
    "                \n",
    "    # Note In the next step, you will use the token number to log into it. "
   ]
  },
  {
   "cell_type": "code",
   "execution_count": null,
   "metadata": {},
   "outputs": [],
   "source": [
    "After launching jupyter notebook on remote server, there are many output messages. Locate the line that looks like this\n",
    "\n",
    "http://localhost:8889/?token=ddfd2605b7734630e5bdb77b8c60a99460d5d4ed4e9693de. copy the line after \"token=\""
   ]
  },
  {
   "cell_type": "code",
   "execution_count": null,
   "metadata": {},
   "outputs": [],
   "source": [
    "Use this token number to log in the url: http://localhost:8888 on your local machine\n"
   ]
  },
  {
   "cell_type": "code",
   "execution_count": null,
   "metadata": {},
   "outputs": [],
   "source": [
    "Now, you can locally use Jupyter notebook hosted by remote server"
   ]
  }
 ],
 "metadata": {
  "kernelspec": {
   "display_name": "Python 3",
   "language": "python",
   "name": "python3"
  },
  "language_info": {
   "codemirror_mode": {
    "name": "ipython",
    "version": 3
   },
   "file_extension": ".py",
   "mimetype": "text/x-python",
   "name": "python",
   "nbconvert_exporter": "python",
   "pygments_lexer": "ipython3",
   "version": "3.7.6"
  }
 },
 "nbformat": 4,
 "nbformat_minor": 4
}

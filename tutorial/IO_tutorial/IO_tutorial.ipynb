{
 "cells": [
  {
   "cell_type": "code",
   "execution_count": 5,
   "metadata": {},
   "outputs": [],
   "source": [
    "# Stanadard library: \n",
    "import numpy as np\n",
    "\n",
    "# Local library: \n",
    "import IO.reader\n",
    "\n",
    "# Third-party library: "
   ]
  },
  {
   "cell_type": "code",
   "execution_count": 6,
   "metadata": {},
   "outputs": [],
   "source": [
    "# Following Tutorials of how to use the IO library to read txt or dcd trajectory"
   ]
  },
  {
   "cell_type": "code",
   "execution_count": 7,
   "metadata": {},
   "outputs": [
    {
     "name": "stdout",
     "output_type": "stream",
     "text": [
      "114023426.97710575\n"
     ]
    }
   ],
   "source": [
    "# Part 1 ------- How to extract force data in LAMMPS trajectory file in parallel:\n",
    "\n",
    "# work_flow: A python list containing\n",
    "# [((start nconfigs),(start,nconfigs)),((start,nconfigs) ...] \n",
    "\n",
    "start_at = 1 # The nth configuration to start with ( by default starts with 1st configuration)\n",
    "\n",
    "work_load = 5000 # total number of configurations\n",
    "\n",
    "num_cores = 2 # total number of cores assigned \n",
    "\n",
    "buffer_size = 2000 # total number of configuration read into memory at once for each time \n",
    "\n",
    "force_data_address = \"Ref.force\"\n",
    "\n",
    "total_atoms = 512\n",
    "\n",
    "work_flow = IO.reader.parallel_assignment(start_at,work_load,num_cores,buffer_size) \n",
    "# work_flow: A python list containing\n",
    "# [((start nconfigs),(start,nconfigs)),((start,nconfigs) ...] \n",
    "\n",
    "output_lst = IO.reader.read_LAMMPS_traj_in_parallel(force_data_address,num_cores,total_atoms,work_load,first=1,buffer_size=buffer_size)\n",
    "\n",
    "sum_sqr = 0\n",
    "\n",
    "for output in output_lst:\n",
    "    \n",
    "    force_data = output.get()\n",
    " \n",
    "    sum_sqr += np.sum(force_data**2) \n",
    "\n",
    "# sum of squares of force along each axis: (independent of number of cores used)\n",
    "print ( sum_sqr)\n",
    "\n",
    "# 1 core: 114023426.9771057\n",
    "# 2 cores: 114023426.97710575 \n",
    "# 4 cores: 114023426.9771057 \n",
    "# 6 cores: 114023426.97710566"
   ]
  },
  {
   "cell_type": "code",
   "execution_count": 8,
   "metadata": {},
   "outputs": [
    {
     "name": "stdout",
     "output_type": "stream",
     "text": [
      "c_int(5000)\n",
      "[-10.03411634 -10.04478241  -9.99082185 ... -10.09243442 -10.13237654\n",
      " -10.02792909]\n"
     ]
    }
   ],
   "source": [
    "# Part 2 ------- How to extract data in a single column: \n",
    "\n",
    "txtfile = \"Ref.eng\"\n",
    "\n",
    "num_lines = IO.reader.get_number_lines(txtfile)\n",
    "\n",
    "# If return_numpy=True, numpy array type is return, other ctypes array is returned. \n",
    "eng_data = IO.reader.loadtxt(txtfile,num_lines,skiprows=0,return_numpy=True)\n",
    "\n",
    "print (eng_data)"
   ]
  },
  {
   "cell_type": "code",
   "execution_count": 12,
   "metadata": {},
   "outputs": [
    {
     "name": "stdout",
     "output_type": "stream",
     "text": [
      "total_frames: 2001\n",
      "total_atoms: 512\n",
      "[24.88359261 24.88359261 24.88359261]\n",
      "[[23.91516   23.691532   2.8096325]\n",
      " [ 1.829452  19.534567  13.253174 ]\n",
      " [14.067855  22.89595    9.0977125]\n",
      " ...\n",
      " [23.559156   0.1353707 10.112161 ]\n",
      " [18.908758  20.618652   2.3341913]\n",
      " [ 2.8030653 11.0794325  9.205279 ]]\n"
     ]
    }
   ],
   "source": [
    "# Part 3 ------- How to extract dcd trajectory: \n",
    "\n",
    "dcdfile = \"test.dcd\"\n",
    "\n",
    "total_frames,total_atoms = IO.reader.call_read_dcd_header(dcdfile)\n",
    "\n",
    "current_frame = 5 \n",
    "\n",
    "print (\"total_frames:\", total_frames)\n",
    "print (\"total_atoms:\", total_atoms)\n",
    "\n",
    "# If return_numpy=True, numpy array type is return, other ctypes array is returned. \n",
    "xyz,box = IO.reader.call_read_xyz_box(dcdfile,current_frame,total_atoms,return_numpy=True)\n",
    "\n",
    "print (box)\n",
    "print (xyz)"
   ]
  },
  {
   "cell_type": "code",
   "execution_count": null,
   "metadata": {},
   "outputs": [],
   "source": []
  }
 ],
 "metadata": {
  "kernelspec": {
   "display_name": "Python 3",
   "language": "python",
   "name": "python3"
  },
  "language_info": {
   "codemirror_mode": {
    "name": "ipython",
    "version": 3
   },
   "file_extension": ".py",
   "mimetype": "text/x-python",
   "name": "python",
   "nbconvert_exporter": "python",
   "pygments_lexer": "ipython3",
   "version": "3.7.6"
  }
 },
 "nbformat": 4,
 "nbformat_minor": 4
}

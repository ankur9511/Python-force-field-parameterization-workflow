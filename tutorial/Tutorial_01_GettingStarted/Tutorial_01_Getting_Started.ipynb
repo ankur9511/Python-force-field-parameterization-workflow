{
 "cells": [
  {
   "cell_type": "markdown",
   "metadata": {},
   "source": [
    "# Tutorial 1:  Usages and Descriptions"
   ]
  },
  {
   "cell_type": "markdown",
   "metadata": {},
   "source": [
    "## Part 1: program usages: \n",
    "\n",
    "#### optimize -c 4 -j force_mathcing_tutorial -i input_file -Ref ../../ReferenceData -prep ../../prepsystem\n",
    "\n",
    "-c (cores) \"number of cores requested (an integer)\"\\\n",
    "-j (jobid) \"A user-defined name for a unique job (a string)\"\\\n",
    "-m (Optional) (mode)  \"debug\" or \"run\"\\\n",
    "-i (input) \"input file name (a string)\"\\\n",
    "-Ref (Optional) \"reference data address (a string)\"\\\n",
    "-prep (Optional) \"template folder for running sampling method ( a string)\" "
   ]
  },
  {
   "cell_type": "markdown",
   "metadata": {},
   "source": [
    "## Part 2: input files: \n",
    "\n",
    "#### the content of input file: \n",
    "\n",
    "#### units: \n",
    "\n",
    "real   \n",
    "\n",
    "#### Define objective function arguments and options: \n",
    "\n",
    "force mW_300K_1bar_500 1 2 2 bf 5000 eng abs w 0.0 1.0 \n",
    "\n",
    "#### sampling command  # sampling input file names:  in.force, in.rdf, in.isobar\n",
    "#### sampling by default is LAMMPS \n",
    "\n",
    "module load intel && srun -n %d -N1 -c1 --exclusive --mpi=pmi2 lmp_ml_water < in.%s\n",
    "\n",
    "#### frequency to update current best parameters/obj, and frequency to update restart simplex  \n",
    "\n",
    "5 5 \n",
    "\n",
    "#### guess force-field parameters: \"potential type\" + parameters: ...   \n",
    "stillinger_weber 6.589  2.0925  1.87  29.15  1.02  -0.303333333333 7.049556277  0.6822245584  3.2  0.4 0.0  \n",
    "\n",
    "#### fit (1) and fix (0) parameters: \n",
    "\n",
    "1 1 1 1 1 1 0 1 1 1 0   \n",
    "\n",
    "#### constraints (format: \"index\", \"lower bound\", \"upper bound\") : \n",
    "\n",
    "10 0 5 \n",
    "\n",
    "#### set termination criterion: max number of iteration, tolerance for parameters,tolerance for objective \n",
    "\n",
    "25000 1e-14 1e-14\n",
    "\n",
    "#### create (Perturb) or use existing vertices (Restart): \n",
    "\n",
    "Nelder-Mead Perturb random 0.4 "
   ]
  },
  {
   "cell_type": "markdown",
   "metadata": {},
   "source": [
    "## Part 3: Folder Structures: \n",
    "\n",
    "<img src=\"folder_structure.png\" width=\"1600\" height=\"1200\">"
   ]
  }
 ],
 "metadata": {
  "kernelspec": {
   "display_name": "Python 3",
   "language": "python",
   "name": "python3"
  },
  "language_info": {
   "codemirror_mode": {
    "name": "ipython",
    "version": 3
   },
   "file_extension": ".py",
   "mimetype": "text/x-python",
   "name": "python",
   "nbconvert_exporter": "python",
   "pygments_lexer": "ipython3",
   "version": "3.7.6"
  }
 },
 "nbformat": 4,
 "nbformat_minor": 4
}

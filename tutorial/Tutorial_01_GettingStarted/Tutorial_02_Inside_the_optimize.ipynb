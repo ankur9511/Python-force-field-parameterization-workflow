{
 "cells": [
  {
   "cell_type": "markdown",
   "metadata": {},
   "source": [
    "# Tutorial 2 Inside the \"optimize\""
   ]
  },
  {
   "cell_type": "code",
   "execution_count": 1,
   "metadata": {},
   "outputs": [],
   "source": [
    "#!/usr/bin/env python3\n",
    "\n",
    "# Standard python library\n",
    "\n",
    "# Local library:\n",
    "import IO.user_provided\n",
    "import objective.setup_objective\n",
    "import optimizer.gradient_free\n",
    "import objective.compute_objective\n",
    "\n",
    "# Third party library:"
   ]
  },
  {
   "cell_type": "markdown",
   "metadata": {},
   "source": [
    "----------------------------------------------------------------------------------\n",
    "###                       Taking the input from user                             \n",
    "----------------------------------------------------------------------------------\n",
    "#### Purposes: \n",
    "* Take the input from the command line\n",
    "\n",
    "#### Return:\n",
    "* main_logger: an object that defines the log file output ( you don't have to do anything with it )\n",
    "* TOTAL_CORES: Number of cores assigned by slurm scheduler\n",
    "* INPUT: a string of given input file name\n",
    "* JOBID: a combination of Slurm job id and user-provided id\n",
    "* Ref: Reference data address\n",
    "* prep: template folder address for running sampling "
   ]
  },
  {
   "cell_type": "code",
   "execution_count": 2,
   "metadata": {},
   "outputs": [
    {
     "name": "stdout",
     "output_type": "stream",
     "text": [
      "cores requested: 2 <class 'int'>\n",
      "input file name: in_obj <class 'str'>\n",
      "Job id: tutorial <class 'str'>\n",
      "Reference data path: ../force_matching_tutorial/ReferenceData <class 'str'>\n",
      "prepsystem data path: ../force_matching_tutorial/prepsystem <class 'str'>\n"
     ]
    }
   ],
   "source": [
    "# For the interactive job: (Tutorial only):\n",
    "main_logger,TOTAL_CORES,INPUT,JOBID,Ref,prep= (IO\n",
    "                                         .user_provided\n",
    "                                         .from_command_line(\n",
    "                                            jobID=\"tutorial\",\n",
    "                                            total_cores=2,\n",
    "                                            input_file=\"in_obj\",\n",
    "                                            ref_address=\"../force_matching_tutorial/ReferenceData\",\n",
    "                                            prep_address=\"../force_matching_tutorial/prepsystem\")\n",
    "                                         .finish_reading())\n",
    "\n",
    "\n",
    "# Running the program from command (uncomment for the normal use): \n",
    "\"\"\"\n",
    "main_logger, TOTAL_CORES, INPUT, JOBID,Ref,prep = (IO\n",
    "                                          .user_provided\n",
    "                                          .from_command_line()\n",
    "                                          .finish_reading())\n",
    "\"\"\" \n",
    "print (\"cores requested:\", TOTAL_CORES,type(TOTAL_CORES))\n",
    "print (\"input file name:\", INPUT,type(INPUT))\n",
    "print (\"Job id:\", JOBID,type(JOBID))\n",
    "print (\"Reference data path:\", Ref,type(Ref))\n",
    "print (\"prepsystem data path:\", prep,type(prep))"
   ]
  },
  {
   "cell_type": "markdown",
   "metadata": {},
   "source": [
    "----------------------------------------------------------------------------------\n",
    "###                           Set up the workflow                                \n",
    "----------------------------------------------------------------------------------\n",
    "#### Purposes: \n",
    "* Set up working folders\n",
    "* Initialize sampling methods such LAMMPS\n",
    "* Parse the arugment of objective functions from the input file\n",
    "\n",
    "#### Return: \n",
    "* ref_dict: a python dictionary containing reference data address. Each key is the name of matching type(force,rdf ...). Each value is another dictionary containing the arugment for the sub folder in that matching type. \n",
    "* predict_dict: a python dictionary containg predicted data address. Same data structure as ref_dict\n",
    "* argument_dict: a python dictionary containing arguments needed to run objective functions inclduing number of cores requested, buffersize etc ... \n",
    "* LAMMPS: a Python class instance with the method: \"run\", to invoke simulators to perform the sampling as subprocesses and a method: \"exit\" to check the status of all jobs\n",
    "* last_line: the stopping number of lines in the input file.This includes all the objective function definitions, and commands to be invoked. Optimizer will continue from here to read the rest of input. "
   ]
  },
  {
   "cell_type": "code",
   "execution_count": 3,
   "metadata": {},
   "outputs": [
    {
     "name": "stdout",
     "output_type": "stream",
     "text": [
      "referenced data dictionary:\n",
      " {'force': {'mW_300K_1bar_500': ('/project/palmer/Jingxiang/ours_optimization/tutorial/force_matching_tutorial/ReferenceData/force/mW_300K_1bar_500',)}}\n",
      "predict data dictionary:\n",
      " {'force': {'mW_300K_1bar_500': ('/project/palmer/Jingxiang/ours_optimization/tutorial/main_tutorial/tutorial/Predicted/force/mW_300K_1bar_500',)}}\n",
      "argument dictionary: {'force': {'mW_300K_1bar_500': ('mW_300K_1bar_500', 1.0, 2, 2, 'bf 5000 eng abs w 0.0 1.0')}}\n"
     ]
    }
   ],
   "source": [
    "ref_dict, predict_dict, argument_dict, LAMMPS, last_line = (objective\n",
    "                                                            .setup_objective\n",
    "                                                            .setup(\n",
    "                                                                INPUT,\n",
    "                                                                TOTAL_CORES,\n",
    "                                                                JOBID,\n",
    "                                                                overwrite=True,\n",
    "                                                                Ref_folder=Ref,\n",
    "                                                                prep_folder=prep)\n",
    "                                                            .finish())\n",
    "\n",
    "# display the data structure:\n",
    "print (\"referenced data dictionary:\\n\",ref_dict)\n",
    "\n",
    "print (\"predict data dictionary:\\n\",predict_dict)\n",
    "\n",
    "print (\"argument dictionary:\",argument_dict)"
   ]
  },
  {
   "cell_type": "markdown",
   "metadata": {},
   "source": [
    "----------------------------------------------------------------------------------\n",
    "###                           Initialize objective functions                     \n",
    "----------------------------------------------------------------------------------\n",
    "#### Purposes: \n",
    "* initialize a Python class instances that computes all objective functions specified in the input file. This object will be passed to an optimizer object, and it will be invoked each iteration by the optimizer after new force-field parameters are generated.  \n",
    "\n",
    "#### Return: \n",
    "* \"eval_objective\" is a Python object that contains a method: \"optimize\" that peform the sampling and return objective function values for every iteration. It takes \"potential type\", \"force-field parameters\", and \"status\" as arguments. Another method: \"update\" is optional but is used to update the currently best predicted properties.  \n",
    "\n"
   ]
  },
  {
   "cell_type": "code",
   "execution_count": null,
   "metadata": {},
   "outputs": [],
   "source": [
    "eval_objective = (objective\n",
    "                  .compute_objective\n",
    "                  .prepare(\n",
    "                    ref_dict,\n",
    "                    predict_dict,\n",
    "                    argument_dict,\n",
    "                    LAMMPS))"
   ]
  },
  {
   "cell_type": "markdown",
   "metadata": {},
   "source": [
    "----------------------------------------------------------------------------------\n",
    "###                           start optimization                                 \n",
    "----------------------------------------------------------------------------------\n",
    "#### Purposes: \n",
    "* Perform optimization \n",
    "\n",
    "#### Passd: \n",
    "* A Python class instance must be defined with \"optimize\" attribute, and passed to the optimizer\n",
    "* input file name\n",
    "* Output addresses\n",
    "\n",
    "\n",
    "#### Return: \n",
    "* optimize_fm: A python class instance initialized by parsing the input file arguments\n",
    "* optimization starts by calling the method \"run_optimization()\""
   ]
  },
  {
   "cell_type": "code",
   "execution_count": null,
   "metadata": {},
   "outputs": [],
   "source": [
    "\n",
    "\n",
    "optimize_fm = (optimizer\n",
    "               .gradient_free\n",
    "               .NelderMeadSimplex(\n",
    "                   INPUT,\n",
    "                   eval_objective,\n",
    "                   skipped=last_line,\n",
    "                   Output=JOBID+\"/Output\"))\n",
    "\n",
    "# run optimization ...\n",
    "optimize_fm.run_optimization()\n",
    " \n"
   ]
  },
  {
   "cell_type": "code",
   "execution_count": null,
   "metadata": {},
   "outputs": [],
   "source": []
  }
 ],
 "metadata": {
  "kernelspec": {
   "display_name": "Python 3",
   "language": "python",
   "name": "python3"
  },
  "language_info": {
   "codemirror_mode": {
    "name": "ipython",
    "version": 3
   },
   "file_extension": ".py",
   "mimetype": "text/x-python",
   "name": "python",
   "nbconvert_exporter": "python",
   "pygments_lexer": "ipython3",
   "version": "3.7.6"
  }
 },
 "nbformat": 4,
 "nbformat_minor": 4
}

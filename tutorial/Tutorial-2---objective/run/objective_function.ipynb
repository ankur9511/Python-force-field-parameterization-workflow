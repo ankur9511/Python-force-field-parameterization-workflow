{
 "cells": [
  {
   "cell_type": "code",
   "execution_count": null,
   "metadata": {},
   "outputs": [],
   "source": [
    "#!/usr/bin/env python3\n",
    "import numpy as np \n",
    "import IO.user_provided\n",
    "import objective.setup_objective\n",
    "import optimizer.gradient_free"
   ]
  },
  {
   "cell_type": "code",
   "execution_count": 17,
   "metadata": {},
   "outputs": [
    {
     "name": "stdout",
     "output_type": "stream",
     "text": [
      "#!/bin/bash\r\n",
      "#SBATCH -J ML-BOP\r\n",
      "#SBATCH -o out.o%j  \r\n",
      "#SBATCH -e out.e%j \r\n",
      "#SBATCH -t 5-2:57:33\r\n",
      "#SBATCH -n 12 -N 1   \r\n",
      "\r\n",
      "\r\n",
      "\r\n",
      "\r\n",
      "# --------------------------------- Command Line Options --------------------------------\r\n",
      "\r\n",
      "# -c (cores) \"number of cores assigned\"\r\n",
      "# -j (jobid) \"slurm jobid\"\r\n",
      "# -m (mode)  \"debug\" or \"run\" ( Optional ) \r\n",
      "# -i (input) \"input file\" \r\n",
      "# -Ref reference data address ( Optional )  \r\n",
      "# -prep prepsystem or template folder ( Optional )   \r\n",
      "# $SLUMR_NTASKS: Number of cores requested from SBATCH -n \r\n",
      "# $SLUMR_JOBID: JOB ID assigned after submitting the job \r\n",
      "\r\n",
      "./optimize -c $SLURM_NTASKS -j test_$SLURM_JOBID -i in_obj -Ref ../ReferenceData -prep ../prepsystem  \r\n"
     ]
    }
   ],
   "source": [
    "!cat \"run_NelderMead\""
   ]
  },
  {
   "cell_type": "code",
   "execution_count": null,
   "metadata": {},
   "outputs": [],
   "source": [
    "# Taking input from command line or interactively\n",
    "\n",
    "#logger, TOTAL_CORES,INPUT,JOBID = IO.user_provided.from_command_line(jobID=\"1234\",total_cores=12,input_file=\"in_obj\").finish_reading() \n",
    "logger, TOTAL_CORES,INPUT,JOBID = IO.user_provided.from_command_line().finish_reading() "
   ]
  },
  {
   "cell_type": "code",
   "execution_count": null,
   "metadata": {},
   "outputs": [],
   "source": [
    "# initialize properties matching  \n",
    "\n",
    "ref_dict,predict_dict,argument_dict,LAMMPS,last_line = objective.setup_objective.setup(INPUT,TOTAL_CORES,JOBID,overwrite=True).finish()  \n",
    "\n",
    "\n",
    "\"\"\" ref_dict is a python dictionary \n",
    "\n",
    "    { \n",
    "        matching_type: { sub_folder: [ address of ReferenceData ... ]}\n",
    "        matching_type: { sub_folder: [ address of ReferenceData ... ]}\n",
    "        .....\n",
    "       \n",
    "       } \n",
    "\"\"\"  \n",
    "\n",
    "\"\"\" ref_dict is a python dictionary \n",
    "\n",
    "    { \n",
    "        matching_type: { sub_folder: [ address of predicted data ... ]}\n",
    "        matching_type: { sub_folder: [ address of predicted data ... ]}\n",
    "        .....\n",
    "       \n",
    "       } \n",
    "\"\"\"  \n",
    "\n",
    "\"\"\" argument_dict is a python dictionary \n",
    "\n",
    "    { \n",
    "    \n",
    "        matching_type: { sub_folder: (weight, cores for running sampling, cores for doing analysis, argument) } \n",
    "        matching_type: { sub_folder: (weight, cores for running sampling, cores for doing analysis, argument) } \n",
    "        ....\n",
    "        \n",
    "        } \n",
    "\n",
    "\"\"\"  "
   ]
  },
  {
   "cell_type": "code",
   "execution_count": null,
   "metadata": {},
   "outputs": [],
   "source": []
  },
  {
   "cell_type": "code",
   "execution_count": null,
   "metadata": {},
   "outputs": [],
   "source": [
    "# How does sampling method work. \n",
    "\n",
    "force_field = np.array([1.0,1.0,0.0,77638.534354,16.148387, -0.471029, 0.770018, 1e-06, 2.19964, 10921.97125, 3.282761, 0.270511, 2.750522,38840.92139 ]) \n",
    "\n",
    "LAMMPS.run(\"tersoff\",force_field ) \n",
    "\n",
    "job_successfull = LAMMPS.exit() \n"
   ]
  },
  {
   "cell_type": "code",
   "execution_count": 18,
   "metadata": {},
   "outputs": [
    {
     "name": "stdout",
     "output_type": "stream",
     "text": [
      "----------------------------- Initialize isobar matching -----------------------------\r\n",
      "\r\n",
      "\r\n",
      "The sub_folder name: mW\r\n",
      "\r\n",
      "The weight of objective function : 2.000 \r\n",
      "\r\n",
      "Number of cores for running sampling: 12 \r\n",
      "\r\n",
      "Number of cores for computing objective: 1\r\n",
      "\r\n",
      "The other arbitrary argument: penalty 5 \r\n",
      "\r\n",
      "------------------------- Initialize sampling method: LAMMPS -------------------------\r\n",
      "\r\n",
      "\r\n",
      "Number of jobs: 6 \r\n",
      "\r\n",
      "Number of cores used per job:  2 \r\n",
      "\r\n",
      "Command:  module load intel && srun -n 2 --mpi=pmi2 --nodes=1 lmp_ml_water < in.isobar \r\n",
      "\r\n",
      "ERROR: Command: module load intel && srun -n %d --mpi=pmi2 --nodes=1 lmp_ml_water < in.%s, Folders: /project/palmer/Jingxiang/ours_optimization/tutorial/Tutorial-2---objective/run/test_366658/Predicted/isobar/mW/230 \r\n"
     ]
    }
   ],
   "source": [
    "!cat \"sample.log\""
   ]
  },
  {
   "cell_type": "code",
   "execution_count": null,
   "metadata": {},
   "outputs": [],
   "source": [
    "# create objective function that will be passed to optimizer\n",
    "\n",
    "\"\"\"\n",
    "matching_objective = objective.compute_objective(ref_dict,predict_dict,argument_dict,LAMMPS) \n",
    "\"\"\"\n",
    "\n",
    "# objective function has the method of \"optimize\" \n",
    "\n",
    "# matching_objective.optimize(\"force-field parameters\",force-field parameters) "
   ]
  },
  {
   "cell_type": "code",
   "execution_count": null,
   "metadata": {},
   "outputs": [],
   "source": [
    "# Run optimization using the objective:\n",
    "\n",
    "optimize_Himmelblau = optimizer.gradient_free.NelderMeadSimplex(INPUT,matching_objective,skipped=last_line)\n",
    "\n",
    "optimize_Himmelblau.run_optimization()"
   ]
  }
 ],
 "metadata": {
  "kernelspec": {
   "display_name": "Python 3",
   "language": "python",
   "name": "python3"
  },
  "language_info": {
   "codemirror_mode": {
    "name": "ipython",
    "version": 3
   },
   "file_extension": ".py",
   "mimetype": "text/x-python",
   "name": "python",
   "nbconvert_exporter": "python",
   "pygments_lexer": "ipython3",
   "version": "3.7.6"
  }
 },
 "nbformat": 4,
 "nbformat_minor": 4
}

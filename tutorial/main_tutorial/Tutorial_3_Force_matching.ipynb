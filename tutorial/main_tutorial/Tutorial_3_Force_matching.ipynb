{
 "cells": [
  {
   "cell_type": "markdown",
   "metadata": {},
   "source": [
    "# Tutorial 1 main function"
   ]
  },
  {
   "cell_type": "code",
   "execution_count": 29,
   "metadata": {},
   "outputs": [],
   "source": [
    "#!/usr/bin/env python3\n",
    "\n",
    "# Standard python library\n",
    "\n",
    "# Local library:\n",
    "import IO.user_provided\n",
    "import objective.setup_objective\n",
    "import optimizer.gradient_free\n",
    "import objective.compute_objective\n",
    "\n",
    "# Third party library:"
   ]
  },
  {
   "cell_type": "code",
   "execution_count": 30,
   "metadata": {},
   "outputs": [],
   "source": [
    "# In the shell, use the slurm job scheduler to request cores to run the job interactively\n",
    "\n",
    "#[shell]$ srun  -n 2 -t 10:00:00 --x11=first --pty /bin/bash  -l"
   ]
  },
  {
   "cell_type": "markdown",
   "metadata": {},
   "source": [
    "# the content of input file: \n",
    "#text_file = open(\"in_obj\")\n",
    "#file_content = text_file.read()\n",
    "#print(file_content)\n",
    "#text_file.close()\n",
    "\n",
    "## units: \n",
    "\n",
    "real   \n",
    "\n",
    "## Define objective function: \n",
    "\n",
    "force mW_300K_1bar_500 1 2 2 bf 5000 eng abs w 0.0 1.0 \n",
    "\n",
    "## sampling command  # sampling input file names:  in.force, in.rdf, in.isobar\n",
    "## sampling by default is LAMMPS \n",
    "\n",
    "module load intel && srun -n %d -N1 -c1 --mpi=pmi2 lmp_ml_water < in.%s\n",
    "\n",
    "## output frequency: current best parameters/obj, restart simplex  \n",
    "\n",
    "5 5 \n",
    "\n",
    "##stillinger_weber 6.189  2.3925  1.80  23.15  1.20  -0.333333333333 7.049556277  0.6022245584  4.0  0.0 0.0  \n",
    "stillinger_weber 6.589  2.0925  1.87  29.15  1.02  -0.303333333333 7.049556277  0.6822245584  3.2  0.4 0.0  \n",
    "\n",
    "## fit (1) and fix (0) parameters: \n",
    "\n",
    "1 1 1 1 1 1 0 1 1 1 0   \n",
    "\n",
    "## constraints (index lower upper)  ... ): \n",
    "\n",
    "10 0 5 \n",
    "\n",
    "## set termination criterion: max number of iteration, tolerance for parameters,tolerance for objective \n",
    "\n",
    "25000 1e-14 1e-14\n",
    "\n",
    "## create (Perturb) or use existing vertices (Restart): \n",
    "\n",
    "Nelder-Mead Perturb random 0.4  \n"
   ]
  },
  {
   "cell_type": "code",
   "execution_count": 32,
   "metadata": {},
   "outputs": [
    {
     "name": "stdout",
     "output_type": "stream",
     "text": [
      "cores requested: 2 <class 'int'>\n",
      "input file name: in_obj <class 'str'>\n",
      "Job id: tutorial <class 'str'>\n",
      "Reference data path: ../force_matching_tutorial/ReferenceData <class 'str'>\n",
      "prepsystem data path: ../force_matching_tutorial/prepsystem <class 'str'>\n"
     ]
    }
   ],
   "source": [
    "#------------------------------------------------------------------------------\n",
    "#                       Taking the input from user                             \n",
    "#------------------------------------------------------------------------------\n",
    "# global variables:\n",
    "# main_logger: an object that defines the log file output\n",
    "# ( you don't have to do anything with it )\n",
    "\n",
    "# TOTAL_CORES: Number of cores assigned by slurm scheduler\n",
    "# INPUT: a string of given input file name\n",
    "# JOBID: a combination of Slurm job id and user-provided id\n",
    "\n",
    "\n",
    "\n",
    "# For interactive job only:\n",
    "main_logger,TOTAL_CORES,INPUT,JOBID,Ref,prep= (IO\n",
    "                                         .user_provided\n",
    "                                         .from_command_line(\n",
    "                                            jobID=\"tutorial\",\n",
    "                                            total_cores=2,\n",
    "                                            input_file=\"in_obj\",\n",
    "                                            ref_address=\"../force_matching_tutorial/ReferenceData\",\n",
    "                                            prep_address=\"../force_matching_tutorial/prepsystem\")\n",
    "                                         .finish_reading())\n",
    "\n",
    "\n",
    "# For command line job only: \n",
    "\"\"\"\n",
    "main_logger, TOTAL_CORES, INPUT, JOBID,Ref,prep = (IO\n",
    "                                          .user_provided\n",
    "                                          .from_command_line()\n",
    "                                          .finish_reading())\n",
    "\"\"\" \n",
    "print (\"cores requested:\", TOTAL_CORES,type(TOTAL_CORES))\n",
    "print (\"input file name:\", INPUT,type(INPUT))\n",
    "print (\"Job id:\", JOBID,type(JOBID))\n",
    "print (\"Reference data path:\", Ref,type(Ref))\n",
    "print (\"prepsystem data path:\", prep,type(prep))"
   ]
  },
  {
   "cell_type": "code",
   "execution_count": 33,
   "metadata": {},
   "outputs": [
    {
     "name": "stdout",
     "output_type": "stream",
     "text": [
      "referenced data dictionary:\n",
      " {'force': {'mW_300K_1bar_500': ('/project/palmer/Jingxiang/ours_optimization/tutorial/force_matching_tutorial/ReferenceData/force/mW_300K_1bar_500',)}}\n",
      "predict data dictionary:\n",
      " {'force': {'mW_300K_1bar_500': ('/project/palmer/Jingxiang/ours_optimization/tutorial/main_tutorial/tutorial/Predicted/force/mW_300K_1bar_500',)}}\n",
      "argument dictionary: {'force': {'mW_300K_1bar_500': (1.0, 2, 2, 'bf 5000 eng abs w 0.0 1.0')}}\n"
     ]
    }
   ],
   "source": [
    "#------------------------------------------------------------------------------\n",
    "#                           Set up the workflow                                \n",
    "#------------------------------------------------------------------------------\n",
    "# set up working folders\n",
    "# Initialize sampling methods such LAMMPS\n",
    "# Parse the arugment of objective functions from the input file\n",
    "\n",
    "# Output: \n",
    "# ref_dict: a python dictionary containing reference data address\n",
    "# predict_dict, a python dictionary containg predicted data address \n",
    "# argument_dict, a python dictionary containing arguments needed to run objective\n",
    "# functions inclduing number of cores requested, buffersize etc ... \n",
    "\n",
    "ref_dict, predict_dict, argument_dict, LAMMPS, last_line = (objective\n",
    "                                                            .setup_objective\n",
    "                                                            .setup(\n",
    "                                                                INPUT,\n",
    "                                                                TOTAL_CORES,\n",
    "                                                                JOBID,\n",
    "                                                                overwrite=True,\n",
    "                                                                Ref_folder=Ref,\n",
    "                                                                prep_folder=prep)\n",
    "                                                            .finish())\n",
    "\n",
    "\n",
    "print (\"referenced data dictionary:\\n\",ref_dict)\n",
    "\n",
    "print (\"predict data dictionary:\\n\",predict_dict)\n",
    "\n",
    "print (\"argument dictionary:\",argument_dict)"
   ]
  },
  {
   "cell_type": "code",
   "execution_count": 34,
   "metadata": {},
   "outputs": [],
   "source": [
    "#------------------------------------------------------------------------------\n",
    "#                           Initialize objective functions                     \n",
    "#------------------------------------------------------------------------------\n",
    "\n",
    "# Output: \n",
    "# instantiate the class object for computing specific objective fucntion  \n",
    "# eval_objective has a method called \"optimize\", which takes the input\n",
    "# of an array of optimized parameters and its type name (a string). \n",
    "# This eval_objective will be passed to optimizer \n",
    "\n",
    "eval_objective = (objective\n",
    "                  .compute_objective\n",
    "                  .prepare(\n",
    "                    ref_dict,\n",
    "                    predict_dict,\n",
    "                    argument_dict,\n",
    "                    LAMMPS))"
   ]
  },
  {
   "cell_type": "code",
   "execution_count": 35,
   "metadata": {},
   "outputs": [
    {
     "data": {
      "text/plain": [
       "' \\noptimize_fm = (optimizer\\n               .gradient_free\\n               .NelderMeadSimplex(\\n                   INPUT,\\n                   eval_objective,\\n                   skipped=last_line,\\n                   Output=JOBID+\"/Output\"))\\n\\n# run optimization ...\\noptimize_fm.run_optimization()\\n'"
      ]
     },
     "execution_count": 35,
     "metadata": {},
     "output_type": "execute_result"
    }
   ],
   "source": [
    "#------------------------------------------------------------------------------\n",
    "#                           start optimization                                 \n",
    "#------------------------------------------------------------------------------\n",
    "\n",
    "# Output: \n",
    "# optimize_fm: A python object initialized from the input file\n",
    "# It contains a method called \"run_optimization()\"\n",
    "\n",
    "\"\"\" \n",
    "optimize_fm = (optimizer\n",
    "               .gradient_free\n",
    "               .NelderMeadSimplex(\n",
    "                   INPUT,\n",
    "                   eval_objective,\n",
    "                   skipped=last_line,\n",
    "                   Output=JOBID+\"/Output\"))\n",
    "\n",
    "# run optimization ...\n",
    "optimize_fm.run_optimization()\n",
    "\"\"\"\n"
   ]
  },
  {
   "cell_type": "code",
   "execution_count": null,
   "metadata": {},
   "outputs": [],
   "source": []
  },
  {
   "cell_type": "code",
   "execution_count": null,
   "metadata": {},
   "outputs": [],
   "source": []
  }
 ],
 "metadata": {
  "kernelspec": {
   "display_name": "Python 3",
   "language": "python",
   "name": "python3"
  },
  "language_info": {
   "codemirror_mode": {
    "name": "ipython",
    "version": 3
   },
   "file_extension": ".py",
   "mimetype": "text/x-python",
   "name": "python",
   "nbconvert_exporter": "python",
   "pygments_lexer": "ipython3",
   "version": "3.7.6"
  }
 },
 "nbformat": 4,
 "nbformat_minor": 4
}
